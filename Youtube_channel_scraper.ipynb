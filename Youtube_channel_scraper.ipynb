{
  "nbformat": 4,
  "nbformat_minor": 0,
  "metadata": {
    "colab": {
      "name": "Youtube channel scraper",
      "provenance": [],
      "toc_visible": true,
      "authorship_tag": "ABX9TyP1TDuH5pbKwCAxMVDm9t0g"
    },
    "kernelspec": {
      "name": "python3",
      "display_name": "Python 3"
    }
  },
  "cells": [
    {
      "cell_type": "markdown",
      "metadata": {
        "id": "dowTxHjauR7X"
      },
      "source": [
        "# This notebook allows for downloading all videos on a Youtube channel to your Google Drive\r\n",
        "You need to have Youtube API key before using this. This notebook use youtube-dl library for downloading the videos."
      ]
    },
    {
      "cell_type": "markdown",
      "metadata": {
        "id": "Fl0BF-YAgCxi"
      },
      "source": [
        "# Install the required library"
      ]
    },
    {
      "cell_type": "code",
      "metadata": {
        "id": "M7ryoWIff1Th",
        "colab": {
          "base_uri": "https://localhost:8080/"
        },
        "outputId": "eed008b1-26cd-4927-ae16-2026716538ba"
      },
      "source": [
        "!pip install youtube_dl"
      ],
      "execution_count": null,
      "outputs": [
        {
          "output_type": "stream",
          "text": [
            "Collecting youtube_dl\n",
            "\u001b[?25l  Downloading https://files.pythonhosted.org/packages/2d/e6/cca03e83b32f8c59d65a3c8dc396689a7be55230933890c64dba0099c942/youtube_dl-2021.2.10-py2.py3-none-any.whl (1.9MB)\n",
            "\u001b[K     |████████████████████████████████| 1.9MB 5.0MB/s \n",
            "\u001b[?25hInstalling collected packages: youtube-dl\n",
            "Successfully installed youtube-dl-2021.2.10\n"
          ],
          "name": "stdout"
        }
      ]
    },
    {
      "cell_type": "markdown",
      "metadata": {
        "id": "0au91FPXgMF-"
      },
      "source": [
        "# Connect to user Google drive"
      ]
    },
    {
      "cell_type": "code",
      "metadata": {
        "id": "1Z-zR1vagZyQ"
      },
      "source": [
        "import os\r\n",
        "from google.colab import drive\r\n",
        "drive.mount('/content/gdrive')"
      ],
      "execution_count": null,
      "outputs": []
    },
    {
      "cell_type": "markdown",
      "metadata": {
        "id": "h700Tq8FkMZg"
      },
      "source": [
        "# Get all video links from the channel\r\n",
        "Change `api_key` to your own Youtube API key, and `channel_id` to the ID of the channel you wish to download"
      ]
    },
    {
      "cell_type": "code",
      "metadata": {
        "id": "LF73P_cpkaEa"
      },
      "source": [
        "import json\r\n",
        "from urllib.request import urlopen\r\n",
        "\r\n",
        "api_key = ''\r\n",
        "channel_id = \"\"\r\n",
        "\r\n",
        "def get_all_video_in_channel():\r\n",
        "    base_video_url = 'https://www.youtube.com/watch?v='\r\n",
        "    base_search_url = 'https://www.googleapis.com/youtube/v3/search?'\r\n",
        "\r\n",
        "    first_url = base_search_url + 'key={}&channelId={}&part=snippet,id&order=date&maxResults=25'.format(api_key, channel_id)\r\n",
        "    video_links = []\r\n",
        "    url = first_url\r\n",
        "    while True:\r\n",
        "        inp = urlopen(url)\r\n",
        "        resp = json.load(inp)\r\n",
        "\r\n",
        "        for i in resp['items']:\r\n",
        "            channel_name = resp['items']\r\n",
        "            if i['id']['kind'] == \"youtube#video\":\r\n",
        "                video_links.append(base_video_url + i['id']['videoId'])\r\n",
        "        try:\r\n",
        "            next_page_token = resp['nextPageToken']\r\n",
        "            url = first_url + '&pageToken={}'.format(next_page_token)\r\n",
        "        except:\r\n",
        "            break\r\n",
        "    return video_links\r\n",
        "\r\n",
        "\r\n",
        "links = get_all_video_in_channel()\r\n",
        "for link in links:\r\n",
        "  print(link)\r\n",
        "channel_api = \"https://www.googleapis.com/youtube/v3/channels?part=snippet&id={}&key={}\".format(channel_id, api_key)\r\n",
        "cname = urlopen(channel_api)\r\n",
        "respon = json.load(cname)\r\n",
        "channel_name = respon[\"items\"][0][\"snippet\"][\"title\"]\r\n",
        "print(\"Channel name: \" + channel_name)\r\n",
        "print(\"Total videos found: \" + str(len(links)))"
      ],
      "execution_count": null,
      "outputs": []
    },
    {
      "cell_type": "markdown",
      "metadata": {
        "id": "OhjXcAcC8iR9"
      },
      "source": [
        "# Change the working directory\r\n",
        "This will change the working directory to the Google drive folder, by default this will make new folder called \"Youtube Downloads\" and place the downloaded videos here. You can change it to whatever you want."
      ]
    },
    {
      "cell_type": "code",
      "metadata": {
        "id": "zzGortxS8h08"
      },
      "source": [
        "os.chdir('gdrive/MyDrive') \r\n",
        "!mkdir -p \"Youtube Downloads\"\r\n",
        "os.chdir(\"Youtube Downloads\")\r\n",
        "print(\"Current directory: \" + os.getcwd())"
      ],
      "execution_count": null,
      "outputs": []
    },
    {
      "cell_type": "markdown",
      "metadata": {
        "id": "wOnmX79RsI5d"
      },
      "source": [
        "# Download the videos using youtube-dl"
      ]
    },
    {
      "cell_type": "code",
      "metadata": {
        "id": "dEKD-kx4sS_O"
      },
      "source": [
        "from __future__ import unicode_literals\r\n",
        "import youtube_dl\r\n",
        "\r\n",
        "ydl_opts = {}\r\n",
        "with youtube_dl.YoutubeDL(ydl_opts) as ydl:\r\n",
        "    ydl.download(links)"
      ],
      "execution_count": null,
      "outputs": []
    }
  ]
}